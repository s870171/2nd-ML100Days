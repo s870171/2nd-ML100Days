{
 "cells": [
  {
   "cell_type": "markdown",
   "metadata": {},
   "source": [
    "## 練習時間\n",
    "#### 請寫一個函式用來計算 Mean Square Error\n",
    "$ MSE = \\frac{1}{n}\\sum_{i=1}^{n}{(Y_i - \\hat{Y}_i)^2} $\n",
    "\n",
    "### Hint: [如何取平方](https://googoodesign.gitbooks.io/-ezpython/unit-1.html)"
   ]
  },
  {
   "cell_type": "code",
   "execution_count": 15,
   "metadata": {
    "collapsed": true
   },
   "outputs": [],
   "source": [
    "import numpy as np\n",
    "import matplotlib.pyplot as plt"
   ]
  },
  {
   "cell_type": "code",
   "execution_count": 16,
   "metadata": {
    "collapsed": true
   },
   "outputs": [],
   "source": [
    "def mean_squared_error(y, yp):\n",
    "    \"\"\"\n",
    "    請完成這個 Function 後往下執行\n",
    "    \"\"\"\n",
    "    mse = MSE = sum((y - yp)**2) / len(y)\n",
    "    return mse\n",
    "\n",
    "def mean_absolute_error(y, yp):\n",
    "    mae = MAE = sum(abs(y - yp)) / len(y)\n",
    "    return mae"
   ]
  },
  {
   "cell_type": "code",
   "execution_count": 17,
   "metadata": {},
   "outputs": [
    {
     "data": {
      "image/png": "[encoded data removed]",
      "text/plain": [
       "<matplotlib.figure.Figure at 0x1178bb550>"
      ]
     },
     "metadata": {},
     "output_type": "display_data"
    }
   ],
   "source": [
    "w = 3\n",
    "b = 0.5\n",
    "\n",
    "x_lin = np.linspace(0, 100, 101)\n",
    "\n",
    "y = (x_lin + np.random.randn(101) * 5) * w + b\n",
    "\n",
    "plt.plot(x_lin, y, 'b.', label = 'data points')\n",
    "plt.title(\"Assume we have data points\")\n",
    "plt.legend(loc = 2)\n",
    "plt.show()"
   ]
  },
  {
   "cell_type": "code",
   "execution_count": 18,
   "metadata": {},
   "outputs": [
    {
     "data": {
      "image/png": "[encoded data removed]",
      "text/plain": [
       "<matplotlib.figure.Figure at 0x11793c208>"
      ]
     },
     "metadata": {},
     "output_type": "display_data"
    }
   ],
   "source": [
    "y_hat = x_lin * w + b\n",
    "plt.plot(x_lin, y, 'b.', label = 'data')\n",
    "plt.plot(x_lin, y_hat, 'r-', label = 'prediction')\n",
    "plt.title(\"Assume we have data points (And the prediction)\")\n",
    "plt.legend(loc = 2)\n",
    "plt.show()"
   ]
  },
  {
   "cell_type": "code",
   "execution_count": 19,
   "metadata": {},
   "outputs": [
    {
     "name": "stdout",
     "output_type": "stream",
     "text": [
      "The Mean squared error is 255.153\n",
      "The Mean absolute error is 12.719\n"
     ]
    }
   ],
   "source": [
    "# 執行 Function, 確認有沒有正常執行\n",
    "MSE = mean_squared_error(y, y_hat)\n",
    "MAE = mean_absolute_error(y, y_hat)\n",
    "print(\"The Mean squared error is %.3f\" % (MSE))\n",
    "print(\"The Mean absolute error is %.3f\" % (MAE))"
   ]
  },
  {
   "cell_type": "code",
   "execution_count": 3,
   "metadata": {},
   "outputs": [
    {
     "ename": "IndentationError",
     "evalue": "unexpected indent (<ipython-input-3-9d1e23dc6797>, line 2)",
     "output_type": "error",
     "traceback": [
      "\u001b[0;36m  File \u001b[0;32m\"<ipython-input-3-9d1e23dc6797>\"\u001b[0;36m, line \u001b[0;32m2\u001b[0m\n\u001b[0;31m    選擇的題目是：Suicide Rates Overview 1985 to 2016\u001b[0m\n\u001b[0m    ^\u001b[0m\n\u001b[0;31mIndentationError\u001b[0m\u001b[0;31m:\u001b[0m unexpected indent\n"
     ]
    }
   ],
   "source": [
    "#作業一\n",
    " 選擇的題目是：\n",
    "    Suicide Rates Overview 1985 to 2016\n",
    "    Compares socio-economic info with suicide rates by year and country\n",
    " 1. 為什麼重要：心理健康和生理健康相較起來，是被低估、忽視且污名化的。了解並分析自殺率與社會、經濟、政治、文化、健康、地理的關係，期盼能夠\n",
    "    發展出更有效益、符合經濟的解決方法。從分析中期盼得到過去在醫學上忽視的因子，並對其因子作出解釋與後續改善方案。\n",
    " 2. 資料從何而來：聯合國開發計畫、世界銀行、聯合國衛生組織\n",
    " 3. 資料型態：數字、結構化文字\n",
    " 4. 資料想解決的問題如何評估：回歸分析"
   ]
  },
  {
   "cell_type": "code",
   "execution_count": null,
   "metadata": {
    "collapsed": true
   },
   "outputs": [],
   "source": [
    "#作業二\n",
    " 想像你經營一個自由載客車隊，你希望能透過數據分析以提升業績，請你思考並描述你如何規劃整體的分析/解決方案：\n",
    "\n",
    "1. 核心問題為何 \n",
    "  (1) 定義提升業績為提升毛利\n",
    "     毛利 = 營收 - 成本 = （營業時間 * 單位時間載客次數 * 單次載客收入） - （固定支出 + 變動成本） \n",
    "                      = （營業時間 * 單位時間載客次數 * 單次載客收入） - （固定支出[薪資、資產折舊]+ 變動成本[油、耗材]）\n",
    "  (2) 假設藉由精準預測顧客分布的時間與地理位置，能夠減少空車時間、空車運轉的里程，增加單位時間載客次數並減少變動成本。\n",
    "    \n",
    "2. 資料從何而來  \n",
    "  (1) google maps交通與繁忙時間、捷運站各站進出站人次與時間、經濟部公司行號登記位置與公司人數、各鄉里住宅區人口密度與分佈、\n",
    "      大眾運輸不便捷程度、特殊地點或人潮聚集處的離尖峰時段\n",
    "  (2) google maps、政府各部門資料、過去車隊載客資料（如果有的話）\n",
    "\n",
    "3. 蒐集而來的資料型態為何\n",
    "  (1) 結構化資料：數字\n",
    "      \n",
    "4. 你要回答的問題，其如何評估 (tips：你的假設如何驗證)\n",
    "  (1) 回歸分析"
   ]
  }
 ],
 "metadata": {
  "anaconda-cloud": {},
  "kernelspec": {
   "display_name": "Python 3",
   "language": "python",
   "name": "python3"
  },
  "language_info": {
   "codemirror_mode": {
    "name": "ipython",
    "version": 3
   },
   "file_extension": ".py",
   "mimetype": "text/x-python",
   "name": "python",
   "nbconvert_exporter": "python",
   "pygments_lexer": "ipython3",
   "version": "3.6.3"
  }
 },
 "nbformat": 4,
 "nbformat_minor": 1
}
